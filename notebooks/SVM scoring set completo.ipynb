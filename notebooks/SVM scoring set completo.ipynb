{
 "cells": [
  {
   "cell_type": "code",
   "execution_count": 3,
   "id": "d02c7a13",
   "metadata": {},
   "outputs": [],
   "source": [
    "import numpy as np\n",
    "import matplotlib.pyplot as plt\n",
    "import sys\n",
    "from time import time\n",
    "from numpy import genfromtxt\n",
    "from sklearn import linear_model\n",
    "from sklearn import preprocessing\n",
    "from scipy.special import expit\n",
    "from sklearn.model_selection import train_test_split\n",
    "from sklearn.svm import l1_min_c\n",
    "from sklearn.preprocessing import MinMaxScaler\n",
    "from sklearn.metrics import confusion_matrix\n",
    "from sklearn.model_selection import cross_val_score\n",
    "\n",
    "from sklearn.model_selection import train_test_split\n",
    "from sklearn.preprocessing import StandardScaler\n",
    "sc = StandardScaler()\n",
    "\n",
    "\n",
    "# np.savetxt('myfile.csv', X, delimiter=',')\n",
    "\n",
    "#'Sexo',\t'EdadIng',\t'AñoIng',\t'Pública',\t'Técnica',\t'C1lib',\t'C1reg',\t'C1prom',\t'C2lib',\t'C2reg',\t'C2prom', 'Abandona?'\n",
    "#Columnas 0 a 13 (excluyendo 3 y 6), características y resultado esperado\n",
    "ds_floats = genfromtxt('dataset-sinnulos-completo.csv', dtype=float, delimiter=';', usecols = (0,1,2,4,5,7,8,9,10,11,12,13), skip_header=True,encoding='latin-1')\n",
    "\n",
    "#'NomEscSec',\t'CiudadAlu'\n",
    "#Columnas 3 y 6, características categóricas\n",
    "ds_strs = genfromtxt('dataset-sinnulos-completo.csv', dtype=str,  delimiter=';', usecols = (3,6),  skip_header=True, encoding='latin-1')\n",
    "#toma las primeras 11 (0 a 10) columnas (no incluye 11)\n",
    "#print(ds_strs[:11]) \n",
    "\n",
    "#se codifican las características categóricas (OneHotEncoder no tuvo buena performance)\n",
    "enc = preprocessing.OrdinalEncoder()\n",
    "X_esc_y_ciudad = enc.fit_transform(ds_strs)\n",
    "\n",
    "#enc = preprocessing.OneHotEncoder()\n",
    "#X_esc_y_ciudad = enc.fit_transform(ds_strs).toarray()\n",
    "#print(enc.get_feature_names())\n",
    "\n",
    "#se toman las primeras 10 columnas numéricas\n",
    "X = ds_floats[:,:11]\n",
    "#se toman las predicciones\n",
    "y = ds_floats[:,11]\n",
    "#se agregan las dos columnas categoricas\n",
    "X = np.c_[X, X_esc_y_ciudad] \n",
    "\n",
    "\n",
    "min_max_scaler = preprocessing.MinMaxScaler()\n",
    "X_scaled = min_max_scaler.fit_transform(X)\n",
    "np.set_printoptions(precision=2, suppress=True, linewidth=1000)\n",
    "#print(X_scaled[:11,:]) #muestra primeras 10 filas\n",
    "\n",
    "\n",
    "#particiona el dataset, reservando el 20% para prueba \n",
    "X_train, X_test, y_train, y_test = train_test_split(X_scaled, y, test_size=0.2, random_state=1)\n"
   ]
  },
  {
   "cell_type": "code",
   "execution_count": null,
   "id": "0ce4d4f7",
   "metadata": {},
   "outputs": [],
   "source": [
    "\n"
   ]
  },
  {
   "cell_type": "code",
   "execution_count": 4,
   "id": "24d85895",
   "metadata": {},
   "outputs": [
    {
     "name": "stdout",
     "output_type": "stream",
     "text": [
      "0.8666666666666667\n"
     ]
    }
   ],
   "source": [
    "from sklearn.svm import SVC\n",
    "clf=SVC(kernel='poly').fit(X_train,y_train)\n",
    "print(clf.score(X_test,y_test))"
   ]
  },
  {
   "cell_type": "code",
   "execution_count": 5,
   "id": "5b1ba406",
   "metadata": {},
   "outputs": [
    {
     "name": "stdout",
     "output_type": "stream",
     "text": [
      "0.6666666666666666\n"
     ]
    }
   ],
   "source": [
    "from sklearn.svm import SVC\n",
    "clf=SVC(kernel='sigmoid').fit(X_train,y_train)\n",
    "print(clf.score(X_test,y_test))"
   ]
  },
  {
   "cell_type": "code",
   "execution_count": 6,
   "id": "d5a57696",
   "metadata": {},
   "outputs": [
    {
     "name": "stdout",
     "output_type": "stream",
     "text": [
      "0.8592592592592593\n"
     ]
    }
   ],
   "source": [
    "from sklearn.svm import SVC\n",
    "clf=SVC(kernel='linear').fit(X_train,y_train)\n",
    "print(clf.score(X_test,y_test))"
   ]
  },
  {
   "cell_type": "code",
   "execution_count": 7,
   "id": "0f904c6a",
   "metadata": {},
   "outputs": [
    {
     "name": "stdout",
     "output_type": "stream",
     "text": [
      "0.8666666666666667\n"
     ]
    }
   ],
   "source": [
    "from sklearn.svm import SVC\n",
    "clf=SVC(kernel='rbf').fit(X_train,y_train)\n",
    "print(clf.score(X_test,y_test))"
   ]
  },
  {
   "cell_type": "code",
   "execution_count": 35,
   "id": "8348f202",
   "metadata": {},
   "outputs": [],
   "source": []
  },
  {
   "cell_type": "code",
   "execution_count": null,
   "id": "1ceae352",
   "metadata": {},
   "outputs": [],
   "source": []
  },
  {
   "cell_type": "code",
   "execution_count": null,
   "id": "ed95050b",
   "metadata": {},
   "outputs": [],
   "source": []
  }
 ],
 "metadata": {
  "kernelspec": {
   "display_name": "Python 3",
   "language": "python",
   "name": "python3"
  },
  "language_info": {
   "codemirror_mode": {
    "name": "ipython",
    "version": 3
   },
   "file_extension": ".py",
   "mimetype": "text/x-python",
   "name": "python",
   "nbconvert_exporter": "python",
   "pygments_lexer": "ipython3",
   "version": "3.8.8"
  }
 },
 "nbformat": 4,
 "nbformat_minor": 5
}
